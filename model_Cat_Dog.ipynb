{
  "cells": [
    {
      "cell_type": "code",
      "execution_count": null,
      "id": "b1b1f270",
      "metadata": {
        "id": "b1b1f270"
      },
      "outputs": [],
      "source": [
        "import tensorflow as tf\n",
        "\n",
        "import pandas as pd\n",
        "import numpy as np\n",
        "\n",
        "import seaborn as sns\n",
        "import matplotlib.pyplot as plt\n",
        "\n",
        "from sklearn.metrics import confusion_matrix, classification_report\n"
      ]
    },
    {
      "cell_type": "code",
      "execution_count": null,
      "id": "d4e4d90b",
      "metadata": {
        "id": "d4e4d90b"
      },
      "outputs": [],
      "source": [
        "batch_size = 32\n",
        "num_classes = 10\n",
        "epochs = 100"
      ]
    },
    {
      "cell_type": "code",
      "execution_count": null,
      "id": "0f40fe75",
      "metadata": {
        "id": "0f40fe75"
      },
      "outputs": [],
      "source": [
        "from tensorflow.keras.datasets import cifar10"
      ]
    },
    {
      "cell_type": "code",
      "execution_count": null,
      "id": "daa28eec",
      "metadata": {
        "colab": {
          "base_uri": "https://localhost:8080/"
        },
        "id": "daa28eec",
        "outputId": "c582b1f9-3e1b-43da-bc63-fb5b94e2aa81"
      },
      "outputs": [
        {
          "output_type": "stream",
          "name": "stdout",
          "text": [
            "Downloading data from https://www.cs.toronto.edu/~kriz/cifar-10-python.tar.gz\n",
            "170498071/170498071 [==============================] - 2s 0us/step\n"
          ]
        }
      ],
      "source": [
        "(X_train, Y_train), (X_test, Y_test) = cifar10.load_data()"
      ]
    },
    {
      "cell_type": "code",
      "execution_count": null,
      "id": "6c6fdd8d",
      "metadata": {
        "colab": {
          "base_uri": "https://localhost:8080/"
        },
        "id": "6c6fdd8d",
        "outputId": "4fd69220-8555-4d4d-e541-5bed675c4166"
      },
      "outputs": [
        {
          "output_type": "stream",
          "name": "stdout",
          "text": [
            "X_train Shape: (50000, 32, 32, 3)\n",
            "X_test Shape: (10000, 32, 32, 3)\n",
            "Y_train Shape: (50000, 1)\n",
            "Y_test Shape: (10000, 1)\n"
          ]
        }
      ],
      "source": [
        "print('X_train Shape: {}'.format(X_train.shape))\n",
        "print('X_test Shape: {}'.format(X_test.shape))\n",
        "print('Y_train Shape: {}'.format(Y_train.shape))\n",
        "print('Y_test Shape: {}'.format(Y_test.shape))"
      ]
    },
    {
      "cell_type": "markdown",
      "id": "b9aa0dbf",
      "metadata": {
        "id": "b9aa0dbf"
      },
      "source": [
        "Normalizing"
      ]
    },
    {
      "cell_type": "code",
      "execution_count": null,
      "id": "8a2acd42",
      "metadata": {
        "id": "8a2acd42"
      },
      "outputs": [],
      "source": [
        "X_train = X_train/255\n",
        "X_test = X_test/255"
      ]
    },
    {
      "cell_type": "markdown",
      "id": "2f4c341f",
      "metadata": {
        "id": "2f4c341f"
      },
      "source": [
        "One-Hot-Encoding"
      ]
    },
    {
      "cell_type": "code",
      "execution_count": null,
      "id": "ece4cd2a",
      "metadata": {
        "id": "ece4cd2a"
      },
      "outputs": [],
      "source": [
        "Y_train_en = tf.keras.utils.to_categorical(Y_train,10)\n",
        "Y_test_en = tf.keras.utils.to_categorical(Y_test,10)"
      ]
    },
    {
      "cell_type": "code",
      "execution_count": null,
      "id": "1246c525",
      "metadata": {
        "id": "1246c525"
      },
      "outputs": [],
      "source": [
        "import tensorflow as tf"
      ]
    },
    {
      "cell_type": "code",
      "execution_count": null,
      "id": "2b9551e2",
      "metadata": {
        "id": "2b9551e2"
      },
      "outputs": [],
      "source": [
        "model = tf.keras.Sequential([\n",
        "    tf.keras.layers.Conv2D(64, (4, 4), activation=\"relu\",input_shape=(32, 32, 3),padding='same'),\n",
        "    tf.keras.layers.BatchNormalization(),\n",
        "    tf.keras.layers.Conv2D(64, (4, 4), activation=\"relu\",input_shape=(32, 32, 3),padding='same'),\n",
        "    tf.keras.layers.BatchNormalization(),\n",
        "    tf.keras.layers.MaxPooling2D((2, 2)),\n",
        "    tf.keras.layers.Dropout(0.2),\n",
        "    tf.keras.layers.Conv2D(128, (4, 4), activation=\"relu\",input_shape=(32, 32, 3),padding='same'),\n",
        "    tf.keras.layers.BatchNormalization(),\n",
        "    tf.keras.layers.Conv2D(128, (4, 4), activation=\"relu\",input_shape=(32, 32, 3),padding='same'),\n",
        "    tf.keras.layers.BatchNormalization(),\n",
        "    tf.keras.layers.MaxPooling2D((2, 2)),\n",
        "    tf.keras.layers.BatchNormalization(),\n",
        "    tf.keras.layers.Dropout(0.25),\n",
        "    tf.keras.layers.Conv2D(128, (4, 4), activation=\"relu\",input_shape=(32, 32, 3),padding='same'),\n",
        "    tf.keras.layers.BatchNormalization(),\n",
        "    tf.keras.layers.Conv2D(128, (4, 4), activation=\"relu\",input_shape=(32, 32, 3),padding='same'),\n",
        "    tf.keras.layers.BatchNormalization(),\n",
        "    tf.keras.layers.MaxPooling2D((2, 2)),\n",
        "    tf.keras.layers.Dropout(0.35),\n",
        "    tf.keras.layers.Flatten(),\n",
        "    tf.keras.layers.Dense(256, activation='relu'),\n",
        "    tf.keras.layers.BatchNormalization(),\n",
        "    tf.keras.layers.Dropout(0.5),\n",
        "    tf.keras.layers.Dense(units=10, activation='softmax'),])\n",
        "\n"
      ]
    },
    {
      "cell_type": "code",
      "execution_count": null,
      "id": "b55d8135",
      "metadata": {
        "id": "b55d8135"
      },
      "outputs": [],
      "source": [
        "model.compile(loss ='categorical_crossentropy', optimizer ='adam', metrics =['accuracy'])\n"
      ]
    },
    {
      "cell_type": "code",
      "execution_count": null,
      "id": "045be3de",
      "metadata": {
        "colab": {
          "base_uri": "https://localhost:8080/"
        },
        "id": "045be3de",
        "outputId": "48912aa1-51f5-42fa-de41-50630e083cd9"
      },
      "outputs": [
        {
          "output_type": "stream",
          "name": "stdout",
          "text": [
            "Model: \"sequential\"\n",
            "_________________________________________________________________\n",
            " Layer (type)                Output Shape              Param #   \n",
            "=================================================================\n",
            " conv2d (Conv2D)             (None, 32, 32, 64)        3136      \n",
            "                                                                 \n",
            " batch_normalization (Batch  (None, 32, 32, 64)        256       \n",
            " Normalization)                                                  \n",
            "                                                                 \n",
            " conv2d_1 (Conv2D)           (None, 32, 32, 64)        65600     \n",
            "                                                                 \n",
            " batch_normalization_1 (Bat  (None, 32, 32, 64)        256       \n",
            " chNormalization)                                                \n",
            "                                                                 \n",
            " max_pooling2d (MaxPooling2  (None, 16, 16, 64)        0         \n",
            " D)                                                              \n",
            "                                                                 \n",
            " dropout (Dropout)           (None, 16, 16, 64)        0         \n",
            "                                                                 \n",
            " conv2d_2 (Conv2D)           (None, 16, 16, 128)       131200    \n",
            "                                                                 \n",
            " batch_normalization_2 (Bat  (None, 16, 16, 128)       512       \n",
            " chNormalization)                                                \n",
            "                                                                 \n",
            " conv2d_3 (Conv2D)           (None, 16, 16, 128)       262272    \n",
            "                                                                 \n",
            " batch_normalization_3 (Bat  (None, 16, 16, 128)       512       \n",
            " chNormalization)                                                \n",
            "                                                                 \n",
            " max_pooling2d_1 (MaxPoolin  (None, 8, 8, 128)         0         \n",
            " g2D)                                                            \n",
            "                                                                 \n",
            " batch_normalization_4 (Bat  (None, 8, 8, 128)         512       \n",
            " chNormalization)                                                \n",
            "                                                                 \n",
            " dropout_1 (Dropout)         (None, 8, 8, 128)         0         \n",
            "                                                                 \n",
            " conv2d_4 (Conv2D)           (None, 8, 8, 128)         262272    \n",
            "                                                                 \n",
            " batch_normalization_5 (Bat  (None, 8, 8, 128)         512       \n",
            " chNormalization)                                                \n",
            "                                                                 \n",
            " conv2d_5 (Conv2D)           (None, 8, 8, 128)         262272    \n",
            "                                                                 \n",
            " batch_normalization_6 (Bat  (None, 8, 8, 128)         512       \n",
            " chNormalization)                                                \n",
            "                                                                 \n",
            " max_pooling2d_2 (MaxPoolin  (None, 4, 4, 128)         0         \n",
            " g2D)                                                            \n",
            "                                                                 \n",
            " dropout_2 (Dropout)         (None, 4, 4, 128)         0         \n",
            "                                                                 \n",
            " flatten (Flatten)           (None, 2048)              0         \n",
            "                                                                 \n",
            " dense (Dense)               (None, 256)               524544    \n",
            "                                                                 \n",
            " batch_normalization_7 (Bat  (None, 256)               1024      \n",
            " chNormalization)                                                \n",
            "                                                                 \n",
            " dropout_3 (Dropout)         (None, 256)               0         \n",
            "                                                                 \n",
            " dense_1 (Dense)             (None, 10)                2570      \n",
            "                                                                 \n",
            "=================================================================\n",
            "Total params: 1517962 (5.79 MB)\n",
            "Trainable params: 1515914 (5.78 MB)\n",
            "Non-trainable params: 2048 (8.00 KB)\n",
            "_________________________________________________________________\n",
            "Epoch 1/30\n",
            "1563/1563 [==============================] - 44s 21ms/step - loss: 1.5909 - accuracy: 0.4591 - val_loss: 1.3067 - val_accuracy: 0.5364\n",
            "Epoch 2/30\n",
            "1563/1563 [==============================] - 32s 20ms/step - loss: 0.9675 - accuracy: 0.6616 - val_loss: 1.0942 - val_accuracy: 0.6279\n",
            "Epoch 3/30\n",
            "1563/1563 [==============================] - 33s 21ms/step - loss: 0.7694 - accuracy: 0.7348 - val_loss: 0.7451 - val_accuracy: 0.7448\n",
            "Epoch 4/30\n",
            "1563/1563 [==============================] - 32s 20ms/step - loss: 0.6561 - accuracy: 0.7757 - val_loss: 0.6269 - val_accuracy: 0.7816\n",
            "Epoch 5/30\n",
            "1563/1563 [==============================] - 33s 21ms/step - loss: 0.5609 - accuracy: 0.8098 - val_loss: 0.5613 - val_accuracy: 0.8112\n",
            "Epoch 6/30\n",
            "1563/1563 [==============================] - 33s 21ms/step - loss: 0.4913 - accuracy: 0.8322 - val_loss: 0.7350 - val_accuracy: 0.7557\n",
            "Epoch 7/30\n",
            "1563/1563 [==============================] - 32s 21ms/step - loss: 0.4327 - accuracy: 0.8524 - val_loss: 0.5661 - val_accuracy: 0.8107\n",
            "Epoch 8/30\n",
            "1563/1563 [==============================] - 33s 21ms/step - loss: 0.3813 - accuracy: 0.8695 - val_loss: 0.5927 - val_accuracy: 0.8062\n",
            "Epoch 9/30\n",
            "1563/1563 [==============================] - 32s 21ms/step - loss: 0.3382 - accuracy: 0.8830 - val_loss: 0.5091 - val_accuracy: 0.8387\n",
            "Epoch 10/30\n",
            "1563/1563 [==============================] - 33s 21ms/step - loss: 0.3071 - accuracy: 0.8939 - val_loss: 0.5086 - val_accuracy: 0.8364\n",
            "Epoch 11/30\n",
            "1563/1563 [==============================] - 35s 23ms/step - loss: 0.2747 - accuracy: 0.9060 - val_loss: 0.4867 - val_accuracy: 0.8478\n",
            "Epoch 12/30\n",
            "1563/1563 [==============================] - 38s 24ms/step - loss: 0.2459 - accuracy: 0.9169 - val_loss: 0.4907 - val_accuracy: 0.8498\n",
            "Epoch 13/30\n",
            "1563/1563 [==============================] - 33s 21ms/step - loss: 0.2279 - accuracy: 0.9209 - val_loss: 0.5152 - val_accuracy: 0.8509\n",
            "Epoch 14/30\n",
            "1563/1563 [==============================] - 33s 21ms/step - loss: 0.2164 - accuracy: 0.9255 - val_loss: 0.4993 - val_accuracy: 0.8502\n",
            "Epoch 15/30\n",
            "1563/1563 [==============================] - 33s 21ms/step - loss: 0.1959 - accuracy: 0.9326 - val_loss: 0.4906 - val_accuracy: 0.8568\n",
            "Epoch 16/30\n",
            "1563/1563 [==============================] - 34s 22ms/step - loss: 0.1813 - accuracy: 0.9365 - val_loss: 0.5530 - val_accuracy: 0.8450\n",
            "Epoch 17/30\n",
            "1563/1563 [==============================] - 33s 21ms/step - loss: 0.1699 - accuracy: 0.9406 - val_loss: 0.5267 - val_accuracy: 0.8533\n",
            "Epoch 18/30\n",
            "1563/1563 [==============================] - 33s 21ms/step - loss: 0.1545 - accuracy: 0.9458 - val_loss: 0.5349 - val_accuracy: 0.8553\n",
            "Epoch 19/30\n",
            "1563/1563 [==============================] - 32s 21ms/step - loss: 0.1529 - accuracy: 0.9472 - val_loss: 0.5428 - val_accuracy: 0.8509\n",
            "Epoch 20/30\n",
            "1563/1563 [==============================] - 33s 21ms/step - loss: 0.1421 - accuracy: 0.9520 - val_loss: 0.5482 - val_accuracy: 0.8553\n",
            "Epoch 21/30\n",
            "1563/1563 [==============================] - 33s 21ms/step - loss: 0.1373 - accuracy: 0.9521 - val_loss: 0.5242 - val_accuracy: 0.8655\n",
            "Epoch 22/30\n",
            "1563/1563 [==============================] - 33s 21ms/step - loss: 0.1275 - accuracy: 0.9560 - val_loss: 0.5140 - val_accuracy: 0.8681\n",
            "Epoch 23/30\n",
            "1563/1563 [==============================] - 33s 21ms/step - loss: 0.1269 - accuracy: 0.9565 - val_loss: 0.5389 - val_accuracy: 0.8571\n",
            "Epoch 24/30\n",
            "1563/1563 [==============================] - 32s 21ms/step - loss: 0.1197 - accuracy: 0.9586 - val_loss: 0.5246 - val_accuracy: 0.8645\n",
            "Epoch 25/30\n",
            "1563/1563 [==============================] - 33s 21ms/step - loss: 0.1158 - accuracy: 0.9592 - val_loss: 0.5353 - val_accuracy: 0.8637\n",
            "Epoch 26/30\n",
            "1563/1563 [==============================] - 32s 21ms/step - loss: 0.1061 - accuracy: 0.9643 - val_loss: 0.5695 - val_accuracy: 0.8599\n",
            "Epoch 27/30\n",
            "1563/1563 [==============================] - 32s 21ms/step - loss: 0.1092 - accuracy: 0.9622 - val_loss: 0.5587 - val_accuracy: 0.8625\n",
            "Epoch 28/30\n",
            "1563/1563 [==============================] - 32s 21ms/step - loss: 0.1006 - accuracy: 0.9653 - val_loss: 0.6029 - val_accuracy: 0.8486\n",
            "Epoch 29/30\n",
            "1563/1563 [==============================] - 32s 21ms/step - loss: 0.1026 - accuracy: 0.9645 - val_loss: 0.5451 - val_accuracy: 0.8649\n",
            "Epoch 30/30\n",
            "1563/1563 [==============================] - 33s 21ms/step - loss: 0.0965 - accuracy: 0.9675 - val_loss: 0.5497 - val_accuracy: 0.8679\n"
          ]
        }
      ],
      "source": [
        "model.summary()\n",
        "history = model.fit(X_train, Y_train_en, epochs = 30, verbose=1, validation_data=(X_test,Y_test_en))\n"
      ]
    },
    {
      "cell_type": "code",
      "source": [
        "evaluation = model.evaluate(X_test, Y_test_en)\n",
        "print('Test Accuracy of Model_2(with more  filters): {}'.format(evaluation[1]))\n"
      ],
      "metadata": {
        "colab": {
          "base_uri": "https://localhost:8080/"
        },
        "id": "o-EE7fL4eSQc",
        "outputId": "d3f7cf30-a581-4dcc-810d-513632efa0fa"
      },
      "id": "o-EE7fL4eSQc",
      "execution_count": null,
      "outputs": [
        {
          "output_type": "stream",
          "name": "stdout",
          "text": [
            "313/313 [==============================] - 2s 7ms/step - loss: 0.5497 - accuracy: 0.8679\n",
            "Test Accuracy of Model_2(with more  filters): 0.867900013923645\n"
          ]
        }
      ]
    },
    {
      "cell_type": "code",
      "source": [
        "def plotloss(history):\n",
        "    plt.plot(history.history['loss'])\n",
        "    plt.plot(history.history['val_loss'])\n",
        "    plt.plot(history.history['accuracy'])\n",
        "    plt.xlabel('Epochs')\n",
        "    plt.ylabel('Loss')\n",
        "    plt.legend(['Train', 'Validation', 'Accuracy'])\n",
        "    plt.show()\n",
        "plotloss(history)"
      ],
      "metadata": {
        "colab": {
          "base_uri": "https://localhost:8080/",
          "height": 449
        },
        "id": "zRJ-lPNIeSph",
        "outputId": "c75e0d5d-20d4-4b0e-9fc9-efb1b83c2816"
      },
      "id": "zRJ-lPNIeSph",
      "execution_count": null,
      "outputs": [
        {
          "output_type": "display_data",
          "data": {
            "text/plain": [
              "<Figure size 640x480 with 1 Axes>"
            ],
            "image/png": "[encoded data removed]"
          },
          "metadata": {}
        }
      ]
    }
  ],
  "metadata": {
    "colab": {
      "provenance": [],
      "gpuType": "T4"
    },
    "kernelspec": {
      "display_name": "Python 3",
      "name": "python3"
    },
    "language_info": {
      "codemirror_mode": {
        "name": "ipython",
        "version": 3
      },
      "file_extension": ".py",
      "mimetype": "text/x-python",
      "name": "python",
      "nbconvert_exporter": "python",
      "pygments_lexer": "ipython3",
      "version": "3.10.12"
    },
    "papermill": {
      "default_parameters": {},
      "duration": 1666.528991,
      "end_time": "2023-10-05T11:47:36.893053",
      "environment_variables": {},
      "exception": null,
      "input_path": "__notebook__.ipynb",
      "output_path": "__notebook__.ipynb",
      "parameters": {},
      "start_time": "2023-10-05T11:19:50.364062",
      "version": "2.4.0"
    },
    "accelerator": "GPU"
  },
  "nbformat": 4,
  "nbformat_minor": 5
}